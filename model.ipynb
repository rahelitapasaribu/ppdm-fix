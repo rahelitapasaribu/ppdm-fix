{
 "cells": [
  {
   "cell_type": "code",
   "execution_count": null,
   "id": "063ef8b4",
   "metadata": {},
   "outputs": [
    {
     "ename": "",
     "evalue": "",
     "output_type": "error",
     "traceback": [
      "\u001b[1;31mThe kernel failed to start as a dll could not be loaded.\n",
      "\u001b[1;31mClick <a href='https://aka.ms/kernelFailuresDllLoad'>here</a> for more info."
     ]
    }
   ],
   "source": [
    "import os\n",
    "import numpy as np\n",
    "import cv2\n",
    "import json\n",
    "import matplotlib.pyplot as plt\n",
    "from PIL import Image\n",
    "import tensorflow as tf\n",
    "from tensorflow import keras\n",
    "from tensorflow.keras import layers\n",
    "from sklearn.metrics import mean_squared_error\n",
    "from tqdm import tqdm\n",
    "import time\n",
    "from datetime import datetime\n",
    "\n",
    "# Install packages jika belum ada\n",
    "try:\n",
    "    import lpips\n",
    "except ImportError:\n",
    "    !pip install lpips\n",
    "\n",
    "try:\n",
    "    from skimage.metrics import structural_similarity as ssim\n",
    "    from skimage.metrics import peak_signal_noise_ratio as psnr\n",
    "except ImportError:\n",
    "    !pip install scikit-image\n",
    "\n",
    "import lpips\n",
    "from skimage.metrics import structural_similarity as ssim\n",
    "from skimage.metrics import peak_signal_noise_ratio as psnr"
   ]
  }
 ],
 "metadata": {
  "kernelspec": {
   "display_name": "ppdm2",
   "language": "python",
   "name": "python3"
  },
  "language_info": {
   "codemirror_mode": {
    "name": "ipython",
    "version": 3
   },
   "file_extension": ".py",
   "mimetype": "text/x-python",
   "name": "python",
   "nbconvert_exporter": "python",
   "pygments_lexer": "ipython3",
   "version": "3.10.13"
  }
 },
 "nbformat": 4,
 "nbformat_minor": 5
}
